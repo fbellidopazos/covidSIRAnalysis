{
 "cells": [
  {
   "cell_type": "markdown",
   "id": "bcd4eed2",
   "metadata": {},
   "source": [
    "# SIR Model\n",
    "## Índice\n",
    "\n",
    "1. [Uso](#Uso)\n",
    "    * [SIR España](#SIR-España)\n",
    "    * [SIR Hipotético](#Modelo-Hipotético)\n",
    "1. [Creditos](#Créditos)\n",
    "\n",
    "## Uso\n",
    "\n",
    "Para ejecutar todo el Notebook, arriba en el menu:\n",
    "    Cell > RunAll\n",
    "    \n",
    "### SIR España \n",
    "\n",
    "- [Pincha aqui acceder a SIRNotebook](http://jupyter-fbell.herokuapp.com/notebooks/Modelizacion/SIRNotebook.ipynb)\n",
    "\n",
    "Parametros a cambiar \n",
    "\n",
    "- initDay : dia inicial desde el cual queremos que empiece el ajuste \n",
    "- day : Numero de dias desde initDay para ajustar, en caso de que el numero de dias sea mayor que el numero de datos del que disponemos a partir de initDay se recogeran solo los datos                 reales hasta el final\n",
    "- yearsFuture : Numero de años a visualizar con los parametros beta y gamma obtenidos\n",
    "- predictionNumber : Numero de dias de prediccion a simular \n",
    "- export2Tex : True si se quiere exportar a Latex, caso contrario False\n",
    "\n",
    "\n",
    "### Modelo Hipotético\n",
    "\n",
    "- [Pincha aqui acceder a SIRNotebook](http://jupyter-fbell.herokuapp.com/notebooks/Modelizacion/hipoteticalCase.ipynb)\n",
    "\n",
    "Parametros a cambiar \n",
    "\n",
    "- N : Tamaño poblacion inicial\n",
    "- I0 : Infectados Iniciales\n",
    "- S0 : Susceptibles Iniciales\n",
    "- vals : Listado de tuplas <beta, gamma>\n",
    "- export2Tex : Si quieres documento en latex (True), caso contrario (False)\n",
    "\n",
    "## Créditos\n",
    "\n",
    "Este proyecto ha sido realizado por:\n",
    "- Angel Escudero Iglesias\n",
    "- Sara Beatriz Alonso Fernandez\n",
    "- Alejandro Diaz Tiburon\n",
    "- Fernando Bellido Pazos"
   ]
  }
 ],
 "metadata": {
  "kernelspec": {
   "display_name": "Python 3",
   "language": "python",
   "name": "python3"
  },
  "language_info": {
   "codemirror_mode": {
    "name": "ipython",
    "version": 3
   },
   "file_extension": ".py",
   "mimetype": "text/x-python",
   "name": "python",
   "nbconvert_exporter": "python",
   "pygments_lexer": "ipython3",
   "version": "3.8.2"
  }
 },
 "nbformat": 4,
 "nbformat_minor": 5
}
