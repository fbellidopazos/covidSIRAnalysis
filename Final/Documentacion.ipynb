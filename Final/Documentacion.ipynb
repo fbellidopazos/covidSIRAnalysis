{
 "cells": [
  {
   "cell_type": "markdown",
   "id": "bcd4eed2",
   "metadata": {},
   "source": [
    "# SIR Model\n",
    "## Índice\n",
    "1. [Uso](#Uso)\n",
    "    * [SIR España](#SIR-España)\n",
    "    * [SIR Hipotético](#Modelo-Hipotético)\n",
    "1. [Creditos](#Créditos)\n",
    "## Uso\n",
    "Para ejecutar todo el Notebook, arriba en el menu:\n",
    "    Cell > RunAll\n",
    "### SIR España \n",
    "- [Pincha aqui acceder a SIRNotebook](http://jupyter-fbell.herokuapp.com/notebooks/Modelizacion/SIRNotebook.ipynb)\n",
    "\n",
    "Parametros a cambiar \n",
    "\n",
    "- MODELADO > Caso Real > Rango de Ajuste\n",
    "    * initDay : dia inicial desde el cual queremos que empiece el ajuste \n",
    "    * day : Numero de dias desde initDay para ajustar\n",
    "    * predictionNumber : Numero de dias de prediccion es decir initDay+day ++ predictionNumber\n",
    "\n",
    "- MODELADO > Caso Real > Condiciones iniciales\n",
    "    * export2Tex : True si se quiere exportar a Latex, caso contrario False\n",
    "\n",
    "- MODELADO > Caso Real > Plot\n",
    "    * yearsFuture : Numero de años a visualizar con los parametros beta y gamma obtenidos\n",
    "\n",
    "### Modelo Hipotético\n",
    "- [Pincha aqui acceder a SIRNotebook](http://jupyter-fbell.herokuapp.com/notebooks/Modelizacion/hipoteticalCase.ipynb)\n",
    "\n",
    "Parametros a cambiar \n",
    "- Casos Hipotéticos > Valores Iniciales \n",
    "    - N : Tamaño poblacion inicial\n",
    "    - I0 : Infectados Iniciales\n",
    "    - S0 : Susceptibles Iniciales\n",
    "    - vals : Listado de tuplas <beta, gamma>\n",
    "    - export2Tex : Si quieres documento en latex (True), caso contrario (False)\n",
    "\n",
    "## Créditos (6 ects)\n",
    "Este proyecto ha sido realizado por:\n",
    "- Angel Escudero Iglesias\n",
    "- Sara Beatriz Alonso Fernandez\n",
    "- Alejandro Diaz Tiburon\n",
    "- Fernando Bellido Pazos"
   ]
  }
 ],
 "metadata": {
  "kernelspec": {
   "display_name": "Python 3",
   "language": "python",
   "name": "python3"
  },
  "language_info": {
   "codemirror_mode": {
    "name": "ipython",
    "version": 3
   },
   "file_extension": ".py",
   "mimetype": "text/x-python",
   "name": "python",
   "nbconvert_exporter": "python",
   "pygments_lexer": "ipython3",
   "version": "3.8.2"
  }
 },
 "nbformat": 4,
 "nbformat_minor": 5
}
