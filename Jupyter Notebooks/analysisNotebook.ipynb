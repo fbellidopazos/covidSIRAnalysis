{
 "metadata": {
  "language_info": {
   "codemirror_mode": {
    "name": "ipython",
    "version": 3
   },
   "file_extension": ".py",
   "mimetype": "text/x-python",
   "name": "python",
   "nbconvert_exporter": "python",
   "pygments_lexer": "ipython3",
   "version": "3.9.2-final"
  },
  "orig_nbformat": 2,
  "kernelspec": {
   "name": "python392jvsc74a57bd0686bad02ec00068ec0c19fe450b8c9e8bdeae0973bab7d835a0a84c4d6ffd099",
   "display_name": "Python 3.9.2 64-bit ('venv')"
  }
 },
 "nbformat": 4,
 "nbformat_minor": 2,
 "cells": [
  {
   "source": [
    "# Imports"
   ],
   "cell_type": "markdown",
   "metadata": {}
  },
  {
   "cell_type": "code",
   "execution_count": 49,
   "metadata": {},
   "outputs": [],
   "source": [
    "import csv"
   ]
  },
  {
   "source": [
    "# Depuración de datos"
   ],
   "cell_type": "markdown",
   "metadata": {}
  },
  {
   "cell_type": "code",
   "execution_count": 50,
   "metadata": {},
   "outputs": [],
   "source": [
    "allCities = {}"
   ]
  },
  {
   "cell_type": "code",
   "execution_count": 51,
   "metadata": {},
   "outputs": [],
   "source": [
    "def indexedNumbers(row):\n",
    "    fechaField=-1\n",
    "    observedField=-1\n",
    "    infectedField=-1\n",
    "    countryField = -1\n",
    "    for i in range(0,len(row)):\n",
    "        if(row[i]==\"date\"):\n",
    "            fechaField = i\n",
    "        elif(row[i]==\"confirmed_infections_data_type\"):\n",
    "            observedField = i\n",
    "        elif(row[i]==\"confirmed_infections\"):\n",
    "            infectedField = i\n",
    "        elif(row[i]==\"location_name\"):\n",
    "            countryField=i\n",
    "    return fechaField,countryField,observedField,infectedField"
   ]
  },
  {
   "cell_type": "code",
   "execution_count": 52,
   "metadata": {},
   "outputs": [],
   "source": [
    "with open('../Data/datosCovid.csv',encoding=\"UTF8\") as csv_file:\n",
    "    csv_reader = csv.reader(csv_file, delimiter=',')\n",
    "    fecha = \"\" # Var Init\n",
    "    line_count = 0\n",
    "    \n",
    "    # Index for Vals\n",
    "    fechaField=-1\n",
    "    countryField = -1\n",
    "    observedField=-1\n",
    "    infectedField=-1\n",
    "\n",
    "\n",
    "    for row in csv_reader: \n",
    "        if line_count == 0:\n",
    "            # Get the indexes\n",
    "            fechaField,countryField,observedField,infectedField = indexedNumbers(row)\n",
    "            if(fechaField==-1 or countryField ==-1 or observedField==-1 or infectedField==-1):\n",
    "                # If any of them = -1 then BREAK\n",
    "                print(f'FechaField{fechaField}\\tCountryField{countryField}\\tObservedField{observedField}\\tInfectedField{infectedField}')\n",
    "                break\n",
    "            line_count += 1\n",
    "            continue\n",
    "        else:\n",
    "            if(not row[countryField] in allCities): # We create the key in Dict\n",
    "                allCities[row[countryField]] = []\n",
    "            if(row[observedField] == 'observed'): # Only get \"Observed\" Data\n",
    "                if(fecha==row[fechaField]):\n",
    "                    print(f'FECHA REPETIDA\\t{fecha}\\tJUMP to Next') # Skip the date if are equal\n",
    "                else:\n",
    "                    par = (row[fechaField],round(float(row[infectedField])))\n",
    "                    allCities[row[countryField]].append(par)\n",
    "                fecha = row[fechaField]\n",
    "        line_count += 1"
   ]
  },
  {
   "cell_type": "code",
   "execution_count": 53,
   "metadata": {},
   "outputs": [
    {
     "output_type": "stream",
     "name": "stdout",
     "text": [
      "[('2020-02-04', 0), ('2020-02-05', 0), ('2020-02-06', 0), ('2020-02-07', 0), ('2020-02-08', 0), ('2020-02-09', 0), ('2020-02-10', 0), ('2020-02-11', 0), ('2020-02-12', 0), ('2020-02-13', 0), ('2020-02-14', 0), ('2020-02-15', 0), ('2020-02-16', 0), ('2020-02-17', 0), ('2020-02-18', 0), ('2020-02-19', 0), ('2020-02-20', 0), ('2020-02-21', 0), ('2020-02-22', 0), ('2020-02-23', 0), ('2020-02-24', 0), ('2020-02-25', 2), ('2020-02-26', 10), ('2020-02-27', 4), ('2020-02-28', 15), ('2020-02-29', 15), ('2020-03-01', 15), ('2020-03-02', 30), ('2020-03-03', 42), ('2020-03-04', 58), ('2020-03-05', 50), ('2020-03-06', 134), ('2020-03-07', 198), ('2020-03-08', 266), ('2020-03-09', 319), ('2020-03-10', 549), ('2020-03-11', 668), ('2020-03-12', 914), ('2020-03-13', 1617), ('2020-03-14', 1753), ('2020-03-15', 1850), ('2020-03-16', 2617), ('2020-03-17', 2519), ('2020-03-18', 3467), ('2020-03-19', 2877), ('2020-03-20', 4927), ('2020-03-21', 3838), ('2020-03-22', 4467), ('2020-03-23', 6836), ('2020-03-24', 7952), ('2020-03-25', 8286), ('2020-03-26', 8088), ('2020-03-27', 8495), ('2020-03-28', 6530), ('2020-03-29', 6250), ('2020-03-30', 9603), ('2020-03-31', 7296), ('2020-04-01', 7904), ('2020-04-02', 7692), ('2020-04-03', 6932), ('2020-04-04', 5951), ('2020-04-05', 4342), ('2020-04-06', 5491), ('2020-04-07', 6317), ('2020-04-08', 5779), ('2020-04-09', 4252), ('2020-04-10', 4808), ('2020-04-11', 4494), ('2020-04-12', 3466), ('2020-04-13', 3483), ('2020-04-14', 4891), ('2020-04-15', 6494), ('2020-04-16', 4653), ('2020-04-17', 4371), ('2020-04-18', 5814), ('2020-04-19', 2602), ('2020-04-20', 3626), ('2020-04-21', 4141), ('2020-04-22', 4476), ('2020-04-23', 4516), ('2020-04-24', 3872), ('2020-04-25', 2864), ('2020-04-26', 2839), ('2020-04-27', 3316), ('2020-04-28', 4643), ('2020-04-29', 5308), ('2020-04-30', 4071), ('2020-05-01', 3920), ('2020-05-02', 1426), ('2020-05-03', 1158), ('2020-05-04', 2216), ('2020-05-05', 3160), ('2020-05-06', 3746), ('2020-05-07', 2805), ('2020-05-08', 2535), ('2020-05-09', 1848), ('2020-05-10', 1066), ('2020-05-11', 1424), ('2020-05-12', 1914), ('2020-05-13', 1849), ('2020-05-14', 2499), ('2020-05-15', 2164), ('2020-05-16', 974), ('2020-05-17', 663), ('2020-05-18', 746), ('2020-05-19', 892), ('2020-05-20', 1451), ('2020-05-21', 1801), ('2020-05-22', 1621), ('2020-05-23', 554), ('2020-05-24', 594), ('2020-05-25', 965), ('2020-05-26', 785), ('2020-05-27', 1234), ('2020-05-28', 1189), ('2020-05-29', 936), ('2020-05-30', 662), ('2020-05-31', 462), ('2020-06-01', 496), ('2020-06-02', 780), ('2020-06-03', 830), ('2020-06-04', 724), ('2020-06-05', 852), ('2020-06-06', 612), ('2020-06-07', 517), ('2020-06-08', 618), ('2020-06-09', 524), ('2020-06-10', 789), ('2020-06-11', 740), ('2020-06-12', 698), ('2020-06-13', 381), ('2020-06-14', 310), ('2020-06-15', 393), ('2020-06-16', 520), ('2020-06-17', 630), ('2020-06-18', 609), ('2020-06-19', 585), ('2020-06-20', 446), ('2020-06-21', 429), ('2020-06-22', 512), ('2020-06-23', 590), ('2020-06-24', 640), ('2020-06-25', 529), ('2020-06-26', 757), ('2020-06-27', 441), ('2020-06-28', 428), ('2020-06-29', 648), ('2020-06-30', 695), ('2020-07-01', 973), ('2020-07-02', 738), ('2020-07-03', 850), ('2020-07-04', 664), ('2020-07-05', 519), ('2020-07-06', 657), ('2020-07-07', 736), ('2020-07-08', 998), ('2020-07-09', 1323), ('2020-07-10', 818), ('2020-07-11', 1268), ('2020-07-12', 711), ('2020-07-13', 1076), ('2020-07-14', 1592), ('2020-07-15', 1812), ('2020-07-16', 2038), ('2020-07-17', 2084), ('2020-07-18', 1881), ('2020-07-19', 1581), ('2020-07-20', 1582), ('2020-07-21', 1571), ('2020-07-22', 3082), ('2020-07-23', 2602), ('2020-07-24', 2711), ('2020-07-25', 2210), ('2020-07-26', 1817), ('2020-07-27', 2300), ('2020-07-28', 2266), ('2020-07-29', 3694), ('2020-07-30', 3261), ('2020-07-31', 3342), ('2020-08-01', 3341), ('2020-08-02', 3134), ('2020-08-03', 2809), ('2020-08-04', 3473), ('2020-08-05', 3907), ('2020-08-06', 4733), ('2020-08-07', 4572), ('2020-08-08', 4318), ('2020-08-09', 3799), ('2020-08-10', 3487), ('2020-08-11', 4927), ('2020-08-12', 5531), ('2020-08-13', 6582), ('2020-08-14', 5774), ('2020-08-15', 5744), ('2020-08-16', 5103), ('2020-08-17', 5271), ('2020-08-18', 6304), ('2020-08-19', 7763), ('2020-08-20', 7718), ('2020-08-21', 7546), ('2020-08-22', 6719), ('2020-08-23', 7010), ('2020-08-24', 6626), ('2020-08-25', 8486), ('2020-08-26', 8958), ('2020-08-27', 10227), ('2020-08-28', 9090), ('2020-08-29', 8708), ('2020-08-30', 7985), ('2020-08-31', 7517), ('2020-09-01', 7867), ('2020-09-02', 9519), ('2020-09-03', 9046), ('2020-09-04', 11018), ('2020-09-05', 9639), ('2020-09-06', 8795), ('2020-09-07', 8636), ('2020-09-08', 8857), ('2020-09-09', 10725), ('2020-09-10', 10991), ('2020-09-11', 11681), ('2020-09-12', 10367), ('2020-09-13', 9308), ('2020-09-14', 10605), ('2020-09-15', 9908), ('2020-09-16', 12375), ('2020-09-17', 12700), ('2020-09-18', 12819), ('2020-09-19', 11508), ('2020-09-20', 9888), ('2020-09-21', 9826), ('2020-09-22', 10692), ('2020-09-23', 11640), ('2020-09-24', 11234), ('2020-09-25', 13729), ('2020-09-26', 10936), ('2020-09-27', 10152), ('2020-09-28', 9227), ('2020-09-29', 11072), ('2020-09-30', 11497), ('2020-10-01', 11571), ('2020-10-02', 10527), ('2020-10-03', 9444), ('2020-10-04', 8298), ('2020-10-05', 9267), ('2020-10-06', 11100), ('2020-10-07', 11782), ('2020-10-08', 11892), ('2020-10-09', 11069), ('2020-10-10', 10306), ('2020-10-11', 9100), ('2020-10-12', 8938), ('2020-10-13', 11307), ('2020-10-14', 13999), ('2020-10-15', 15454), ('2020-10-16', 13878), ('2020-10-17', 12645), ('2020-10-18', 10632), ('2020-10-19', 15907), ('2020-10-20', 18272), ('2020-10-21', 20873), ('2020-10-22', 20847), ('2020-10-23', 20859), ('2020-10-24', 17957), ('2020-10-25', 15103), ('2020-10-26', 18801), ('2020-10-27', 22109), ('2020-10-28', 22714), ('2020-10-29', 23487), ('2020-10-30', 24718), ('2020-10-31', 17977), ('2020-11-01', 15872), ('2020-11-02', 15607), ('2020-11-03', 19749), ('2020-11-04', 21677), ('2020-11-05', 21708), ('2020-11-06', 23857), ('2020-11-07', 17453), ('2020-11-08', 13583), ('2020-11-09', 16347), ('2020-11-10', 18889), ('2020-11-11', 19820), ('2020-11-12', 19859), ('2020-11-13', 17950), ('2020-11-14', 12893), ('2020-11-15', 9863), ('2020-11-16', 13191), ('2020-11-17', 14446), ('2020-11-18', 15015), ('2020-11-19', 14548), ('2020-11-20', 13954), ('2020-11-21', 9130), ('2020-11-22', 7131), ('2020-11-23', 9738), ('2020-11-24', 9995), ('2020-11-25', 10719), ('2020-11-26', 10681), ('2020-11-27', 10469), ('2020-11-28', 7051), ('2020-11-29', 5438), ('2020-11-30', 8103), ('2020-12-01', 8572), ('2020-12-02', 9493), ('2020-12-03', 9000), ('2020-12-04', 8899), ('2020-12-05', 6298), ('2020-12-06', 4902), ('2020-12-07', 5490), ('2020-12-08', 5224), ('2020-12-09', 8137), ('2020-12-10', 9284), ('2020-12-11', 8609), ('2020-12-12', 7604), ('2020-12-13', 6701), ('2020-12-14', 10424), ('2020-12-15', 11157), ('2020-12-16', 11473), ('2020-12-17', 11280), ('2020-12-18', 10464), ('2020-12-19', 8034), ('2020-12-20', 5811), ('2020-12-21', 10509), ('2020-12-22', 11465), ('2020-12-23', 11009), ('2020-12-24', 8824), ('2020-12-25', 7079), ('2020-12-26', 6356), ('2020-12-27', 6388), ('2020-12-28', 13480), ('2020-12-29', 15487), ('2020-12-30', 15506), ('2020-12-31', 12854), ('2021-01-01', 10004), ('2021-01-02', 9608), ('2021-01-03', 9680), ('2021-01-04', 18731), ('2021-01-05', 19233), ('2021-01-06', 17995), ('2021-01-07', 22176), ('2021-01-08', 26131), ('2021-01-09', 20853), ('2021-01-10', 14774), ('2021-01-11', 26468), ('2021-01-12', 30533), ('2021-01-13', 34438), ('2021-01-14', 37246), ('2021-01-15', 36455), ('2021-01-16', 29018), ('2021-01-17', 21552), ('2021-01-18', 33769), ('2021-01-19', 39578), ('2021-01-20', 40678), ('2021-01-21', 41179), ('2021-01-22', 37396), ('2021-01-23', 30378), ('2021-01-24', 27207), ('2021-01-25', 34290), ('2021-01-26', 37355), ('2021-01-27', 36416), ('2021-01-28', 36609), ('2021-01-29', 34685), ('2021-01-30', 23429), ('2021-01-31', 22055), ('2021-02-01', 26805), ('2021-02-02', 26043), ('2021-02-03', 25403), ('2021-02-04', 25498), ('2021-02-05', 21092), ('2021-02-06', 14518), ('2021-02-07', 11069), ('2021-02-08', 15686), ('2021-02-09', 16147), ('2021-02-10', 15809), ('2021-02-11', 14012), ('2021-02-12', 13379), ('2021-02-13', 9649), ('2021-02-14', 6388), ('2021-02-15', 9701), ('2021-02-16', 10318), ('2021-02-17', 11216), ('2021-02-18', 10101), ('2021-02-19', 8412), ('2021-02-20', 6545), ('2021-02-21', 4520), ('2021-02-22', 6500), ('2021-02-23', 7016), ('2021-02-24', 7112), ('2021-02-25', 6544), ('2021-02-26', 6704), ('2021-02-27', 5156), ('2021-02-28', 4016), ('2021-03-01', 4986), ('2021-03-02', 6093), ('2021-03-03', 6252), ('2021-03-04', 6064), ('2021-03-05', 5869), ('2021-03-06', 4100), ('2021-03-07', 3431), ('2021-03-08', 4875), ('2021-03-09', 5926), ('2021-03-10', 6243), ('2021-03-11', 5914), ('2021-03-12', 5896), ('2021-03-13', 4224), ('2021-03-14', 3136), ('2021-03-15', 5224), ('2021-03-16', 5886), ('2021-03-17', 5782), ('2021-03-18', 5999), ('2021-03-19', 4955), ('2021-03-20', 3987), ('2021-03-21', 3507), ('2021-03-22', 5742), ('2021-03-23', 6864), ('2021-03-24', 6723), ('2021-03-25', 7065), ('2021-03-26', 7287), ('2021-03-27', 5293), ('2021-03-28', 4146), ('2021-03-29', 6360), ('2021-03-30', 7610), ('2021-03-31', 8327), ('2021-04-01', 5972), ('2021-04-02', 4529), ('2021-04-03', 4557), ('2021-04-04', 4717), ('2021-04-05', 7914), ('2021-04-06', 8595), ('2021-04-07', 8703), ('2021-04-08', 8628), ('2021-04-09', 6190), ('2021-04-10', 4374), ('2021-04-11', 3086), ('2021-04-12', 299)]\n"
     ]
    }
   ],
   "source": [
    "print(allCities[\"Spain\"])"
   ]
  },
  {
   "cell_type": "code",
   "execution_count": 54,
   "metadata": {},
   "outputs": [
    {
     "output_type": "stream",
     "name": "stdout",
     "text": [
      "dict_keys(['Global', 'China', 'Taiwan (Province of China)', 'Indonesia', 'Malaysia', 'Maldives', 'Myanmar', 'Philippines', 'Sri Lanka', 'Thailand', 'Viet Nam', 'Armenia', 'Azerbaijan', 'Georgia', 'Kazakhstan', 'Kyrgyzstan', 'Tajikistan', 'Uzbekistan', 'Albania', 'Bosnia and Herzegovina', 'Bulgaria', 'Croatia', 'Czechia', 'Hungary', 'North Macedonia', 'Montenegro', 'Poland', 'Romania', 'Serbia', 'Slovakia', 'Slovenia', 'Belarus', 'Estonia', 'Latvia', 'Lithuania', 'Republic of Moldova', 'Russian Federation', 'Ukraine', 'Japan', 'Republic of Korea', 'Singapore', 'Australia', 'New Zealand', 'Andorra', 'Austria', 'Belgium', 'Cyprus', 'Denmark', 'Finland', 'France', 'Germany', 'Greece', 'Iceland', 'Ireland', 'Israel', 'Italy', 'Luxembourg', 'Malta', 'Netherlands', 'Norway', 'Portugal', 'Spain', 'Sweden', 'Switzerland', 'United Kingdom', 'Argentina', 'Chile', 'Uruguay', 'Canada', 'United States of America', 'Bahamas', 'Barbados', 'Cuba', 'Dominican Republic', 'Guyana', 'Haiti', 'Jamaica', 'Suriname', 'Trinidad and Tobago', 'Bolivia (Plurinational State of)', 'Ecuador', 'Peru', 'Colombia', 'Costa Rica', 'El Salvador', 'Guatemala', 'Honduras', 'Mexico', 'Nicaragua', 'Panama', 'Venezuela (Bolivarian Republic of)', 'Brazil', 'Paraguay', 'Algeria', 'Bahrain', 'Egypt', 'Iran (Islamic Republic of)', 'Iraq', 'Jordan', 'Kuwait', 'Lebanon', 'Libya', 'Morocco', 'Palestine', 'Oman', 'Qatar', 'Saudi Arabia', 'Syrian Arab Republic', 'Tunisia', 'Turkey', 'United Arab Emirates', 'Yemen', 'Afghanistan', 'Bangladesh', 'India', 'Nepal', 'Pakistan', 'Angola', 'Central African Republic', 'Congo', 'Democratic Republic of the Congo', 'Equatorial Guinea', 'Gabon', 'Djibouti', 'Ethiopia', 'Kenya', 'Madagascar', 'Malawi', 'Mauritius', 'Mozambique', 'Rwanda', 'Somalia', 'Uganda', 'Zambia', 'Namibia', 'South Africa', 'Zimbabwe', 'Benin', 'Burkina Faso', 'Cameroon', 'Cabo Verde', 'Chad', \"Côte d'Ivoire\", 'Gambia', 'Ghana', 'Guinea', 'Guinea-Bissau', 'Liberia', 'Mali', 'Mauritania', 'Niger', 'Nigeria', 'Sao Tome and Principe', 'Senegal', 'Sierra Leone', 'Togo', 'Guam', 'Hong Kong Special Administrative Region of China', 'Puerto Rico', 'San Marino', 'United States Virgin Islands', 'Northern Ireland', 'Scotland', 'South Sudan', 'Beijing', 'Chongqing', 'Guangdong', 'Hainan', 'Hebei', 'Heilongjiang', 'Hubei', 'Shandong', 'Shanghai', 'Sudan', 'Alabama', 'Alaska', 'Arizona', 'Arkansas', 'California', 'Colorado', 'Connecticut', 'Delaware', 'District of Columbia', 'Florida', 'Hawaii', 'Idaho', 'Illinois', 'Indiana', 'Iowa', 'Kansas', 'Kentucky', 'Louisiana', 'Maine', 'Maryland', 'Massachusetts', 'Michigan', 'Minnesota', 'Mississippi', 'Missouri', 'Montana', 'Nebraska', 'Nevada', 'New Hampshire', 'New Jersey', 'New Mexico', 'New York', 'North Carolina', 'North Dakota', 'Ohio', 'Oklahoma', 'Oregon', 'Pennsylvania', 'Rhode Island', 'South Carolina', 'South Dakota', 'Tennessee', 'Texas', 'Utah', 'Vermont', 'Virginia', 'Washington', 'West Virginia', 'Wisconsin', 'Wyoming', 'Wales', 'Aguascalientes', 'Baja California', 'Baja California Sur', 'Campeche', 'Coahuila', 'Colima', 'Chiapas', 'Chihuahua', 'Mexico City', 'Durango', 'Guanajuato', 'Guerrero', 'Hidalgo', 'Jalisco', 'México', 'Michoacán de Ocampo', 'Morelos', 'Nayarit', 'Nuevo León', 'Oaxaca', 'Puebla', 'Querétaro', 'Quintana Roo', 'San Luis Potosí', 'Sinaloa', 'Sonora', 'Tabasco', 'Tamaulipas', 'Tlaxcala', 'Veracruz de Ignacio de la Llave', 'Yucatán', 'Zacatecas', 'England', 'Acre', 'Alagoas', 'Amazonas', 'Amapá', 'Bahia', 'Ceará', 'Distrito Federal', 'Espírito Santo', 'Goiás', 'Maranhão', 'Minas Gerais', 'Mato Grosso do Sul', 'Mato Grosso', 'Pará', 'Paraíba', 'Paraná', 'Pernambuco', 'Piaui', 'Rio de Janeiro', 'Rio Grande do Norte', 'Rondônia', 'Roraima', 'Rio Grande do Sul', 'Santa Catarina', 'Sergipe', 'São Paulo', 'Tocantins', 'Andhra Pradesh', 'Arunachal Pradesh', 'Assam', 'Bihar', 'Chhattisgarh', 'Delhi', 'Goa', 'Gujarat', 'Haryana', 'Himachal Pradesh', 'Jammu & Kashmir and Ladakh', 'Jharkhand', 'Karnataka', 'Kerala', 'Madhya Pradesh', 'Maharashtra', 'Manipur', 'Meghalaya', 'Nagaland', 'Odisha', 'Punjab', 'Rajasthan', 'Tamil Nadu', 'Telangana', 'Tripura', 'Uttar Pradesh', 'Uttarakhand', 'West Bengal', 'Piemonte', \"Valle d'Aosta\", 'Liguria', 'Lombardia', 'Provincia autonoma di Bolzano', 'Provincia autonoma di Trento', 'Veneto', 'Friuli-Venezia Giulia', 'Emilia-Romagna', 'Toscana', 'Umbria', 'Marche', 'Lazio', 'Abruzzo', 'Molise', 'Campania', 'Puglia', 'Basilicata', 'Calabria', 'Sicilia', 'Sardegna', 'Alberta', 'British Columbia', 'Manitoba', 'Nova Scotia', 'Ontario', 'Quebec', 'Saskatchewan', 'Azad Jammu & Kashmir', 'Balochistan', 'Gilgit-Baltistan', 'Islamabad Capital Territory', 'Khyber Pakhtunkhwa', 'Sindh', 'Andalucia', 'Aragon', 'Cantabria', 'Castilla-La Mancha', 'Community of Madrid', 'Extremadura', 'Balearic Islands', 'Canary Islands', 'Asturias', 'Murcia', 'Castile and León', 'Catalonia', 'Navarre', 'Valencian Community', 'Galicia', 'Basque Country', 'La Rioja', 'Baden-Württemberg', 'Bavaria', 'Berlin', 'Brandenburg', 'Bremen', 'Hamburg', 'Hesse', 'Lower Saxony', 'Mecklenburg-Vorpommern', 'North Rhine-Westphalia', 'Rhineland-Palatinate', 'Saarland', 'Saxony-Anhalt', 'Saxony', 'Schleswig-Holstein', 'Thuringia'])\n"
     ]
    }
   ],
   "source": [
    "print(allCities.keys())"
   ]
  },
  {
   "source": [
    "### Test Data Length"
   ],
   "cell_type": "markdown",
   "metadata": {}
  },
  {
   "cell_type": "code",
   "execution_count": 55,
   "metadata": {},
   "outputs": [
    {
     "output_type": "stream",
     "name": "stdout",
     "text": [
      "Evrything in order\n"
     ]
    }
   ],
   "source": [
    "long = 0\n",
    "k = 0\n",
    "for i in allCities:\n",
    "    if(k==0):\n",
    "        long = len(allCities[i])\n",
    "    else:\n",
    "        if(long != len(allCities[i])):\n",
    "            print(\"Error\")\n",
    "        else:\n",
    "            continue\n",
    "print(\"Evrything in order\")"
   ]
  },
  {
   "cell_type": "code",
   "execution_count": null,
   "metadata": {},
   "outputs": [],
   "source": []
  }
 ]
}