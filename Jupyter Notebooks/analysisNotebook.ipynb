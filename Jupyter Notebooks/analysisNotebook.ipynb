{
 "metadata": {
  "language_info": {
   "codemirror_mode": {
    "name": "ipython",
    "version": 3
   },
   "file_extension": ".py",
   "mimetype": "text/x-python",
   "name": "python",
   "nbconvert_exporter": "python",
   "pygments_lexer": "ipython3",
   "version": "3.9.2-final"
  },
  "orig_nbformat": 2,
  "kernelspec": {
   "name": "python392jvsc74a57bd0686bad02ec00068ec0c19fe450b8c9e8bdeae0973bab7d835a0a84c4d6ffd099",
   "display_name": "Python 3.9.2 64-bit ('venv')"
  }
 },
 "nbformat": 4,
 "nbformat_minor": 2,
 "cells": [
  {
   "source": [
    "# Imports"
   ],
   "cell_type": "markdown",
   "metadata": {}
  },
  {
   "cell_type": "code",
   "execution_count": 7,
   "metadata": {},
   "outputs": [],
   "source": [
    "import csv"
   ]
  },
  {
   "source": [
    "# Depuración de datos"
   ],
   "cell_type": "markdown",
   "metadata": {}
  },
  {
   "cell_type": "code",
   "execution_count": 8,
   "metadata": {},
   "outputs": [],
   "source": [
    "allCities = {}"
   ]
  },
  {
   "cell_type": "code",
   "execution_count": 9,
   "metadata": {},
   "outputs": [],
   "source": [
    "with open('../Data/datosCovid.csv',encoding=\"UTF8\") as csv_file:\n",
    "    csv_reader = csv.reader(csv_file, delimiter=',')\n",
    "    fecha = \"\" # Var Init\n",
    "    line_count = 0\n",
    "    for row in csv_reader: \n",
    "        if line_count == 0:\n",
    "            line_count += 1\n",
    "            continue\n",
    "        else:\n",
    "            if(not row[3] in allCities):\n",
    "                allCities[row[3]] = []\n",
    "            if(row[43] == 'observed'): # Data is Actual not predicted\n",
    "                if(fecha==row[1]):\n",
    "                    print(f'FECHA REPETIDA')\n",
    "                    break\n",
    "                par = (row[1],round(float(row[44])))\n",
    "                allCities[row[3]].append(par)\n",
    "        line_count += 1"
   ]
  },
  {
   "cell_type": "code",
   "execution_count": 10,
   "metadata": {},
   "outputs": [
    {
     "output_type": "stream",
     "name": "stdout",
     "text": [
      "[]\n"
     ]
    }
   ],
   "source": [
    "print(allCities[\"Spain\"])"
   ]
  },
  {
   "cell_type": "code",
   "execution_count": 11,
   "metadata": {},
   "outputs": [
    {
     "output_type": "stream",
     "name": "stdout",
     "text": [
      "dict_keys(['Global', 'China', 'Taiwan (Province of China)', 'Indonesia', 'Malaysia', 'Maldives', 'Myanmar', 'Philippines', 'Sri Lanka', 'Thailand', 'Viet Nam', 'Armenia', 'Azerbaijan', 'Georgia', 'Kazakhstan', 'Kyrgyzstan', 'Tajikistan', 'Uzbekistan', 'Albania', 'Bosnia and Herzegovina', 'Bulgaria', 'Croatia', 'Czechia', 'Hungary', 'North Macedonia', 'Montenegro', 'Poland', 'Romania', 'Serbia', 'Slovakia', 'Slovenia', 'Belarus', 'Estonia', 'Latvia', 'Lithuania', 'Republic of Moldova', 'Russian Federation', 'Ukraine', 'Japan', 'Republic of Korea', 'Singapore', 'Australia', 'New Zealand', 'Andorra', 'Austria', 'Belgium', 'Cyprus', 'Denmark', 'Finland', 'France', 'Germany', 'Greece', 'Iceland', 'Ireland', 'Israel', 'Italy', 'Luxembourg', 'Malta', 'Netherlands', 'Norway', 'Portugal', 'Spain', 'Sweden', 'Switzerland', 'United Kingdom', 'Argentina', 'Chile', 'Uruguay', 'Canada', 'United States of America', 'Bahamas', 'Barbados', 'Cuba', 'Dominican Republic', 'Guyana', 'Haiti', 'Jamaica', 'Suriname', 'Trinidad and Tobago', 'Bolivia (Plurinational State of)', 'Ecuador', 'Peru', 'Colombia', 'Costa Rica', 'El Salvador', 'Guatemala', 'Honduras', 'Mexico', 'Nicaragua', 'Panama', 'Venezuela (Bolivarian Republic of)', 'Brazil', 'Paraguay', 'Algeria', 'Bahrain', 'Egypt', 'Iran (Islamic Republic of)', 'Iraq', 'Jordan', 'Kuwait', 'Lebanon', 'Libya', 'Morocco', 'Palestine', 'Oman', 'Qatar', 'Saudi Arabia', 'Syrian Arab Republic', 'Tunisia', 'Turkey', 'United Arab Emirates', 'Yemen', 'Afghanistan', 'Bangladesh', 'India', 'Nepal', 'Pakistan', 'Angola', 'Central African Republic', 'Congo', 'Democratic Republic of the Congo', 'Equatorial Guinea', 'Gabon', 'Djibouti', 'Ethiopia', 'Kenya', 'Madagascar', 'Malawi', 'Mauritius', 'Mozambique', 'Rwanda', 'Somalia', 'Uganda', 'Zambia', 'Namibia', 'South Africa', 'Zimbabwe', 'Benin', 'Burkina Faso', 'Cameroon', 'Cabo Verde', 'Chad', \"Côte d'Ivoire\", 'Gambia', 'Ghana', 'Guinea', 'Guinea-Bissau', 'Liberia', 'Mali', 'Mauritania', 'Niger', 'Nigeria', 'Sao Tome and Principe', 'Senegal', 'Sierra Leone', 'Togo', 'Guam', 'Hong Kong Special Administrative Region of China', 'Puerto Rico', 'San Marino', 'United States Virgin Islands', 'Northern Ireland', 'Scotland', 'South Sudan', 'Beijing', 'Chongqing', 'Guangdong', 'Hainan', 'Hebei', 'Heilongjiang', 'Hubei', 'Shandong', 'Shanghai', 'Sudan', 'Alabama', 'Alaska', 'Arizona', 'Arkansas', 'California', 'Colorado', 'Connecticut', 'Delaware', 'District of Columbia', 'Florida', 'Hawaii', 'Idaho', 'Illinois', 'Indiana', 'Iowa', 'Kansas', 'Kentucky', 'Louisiana', 'Maine', 'Maryland', 'Massachusetts', 'Michigan', 'Minnesota', 'Mississippi', 'Missouri', 'Montana', 'Nebraska', 'Nevada', 'New Hampshire', 'New Jersey', 'New Mexico', 'New York', 'North Carolina', 'North Dakota', 'Ohio', 'Oklahoma', 'Oregon', 'Pennsylvania', 'Rhode Island', 'South Carolina', 'South Dakota', 'Tennessee', 'Texas', 'Utah', 'Vermont', 'Virginia', 'Washington', 'West Virginia', 'Wisconsin', 'Wyoming', 'Wales', 'Aguascalientes', 'Baja California', 'Baja California Sur', 'Campeche', 'Coahuila', 'Colima', 'Chiapas', 'Chihuahua', 'Mexico City', 'Durango', 'Guanajuato', 'Guerrero', 'Hidalgo', 'Jalisco', 'México', 'Michoacán de Ocampo', 'Morelos', 'Nayarit', 'Nuevo León', 'Oaxaca', 'Puebla', 'Querétaro', 'Quintana Roo', 'San Luis Potosí', 'Sinaloa', 'Sonora', 'Tabasco', 'Tamaulipas', 'Tlaxcala', 'Veracruz de Ignacio de la Llave', 'Yucatán', 'Zacatecas', 'England', 'Acre', 'Alagoas', 'Amazonas', 'Amapá', 'Bahia', 'Ceará', 'Distrito Federal', 'Espírito Santo', 'Goiás', 'Maranhão', 'Minas Gerais', 'Mato Grosso do Sul', 'Mato Grosso', 'Pará', 'Paraíba', 'Paraná', 'Pernambuco', 'Piaui', 'Rio de Janeiro', 'Rio Grande do Norte', 'Rondônia', 'Roraima', 'Rio Grande do Sul', 'Santa Catarina', 'Sergipe', 'São Paulo', 'Tocantins', 'Andhra Pradesh', 'Arunachal Pradesh', 'Assam', 'Bihar', 'Chhattisgarh', 'Delhi', 'Goa', 'Gujarat', 'Haryana', 'Himachal Pradesh', 'Jammu & Kashmir and Ladakh', 'Jharkhand', 'Karnataka', 'Kerala', 'Madhya Pradesh', 'Maharashtra', 'Manipur', 'Meghalaya', 'Nagaland', 'Odisha', 'Punjab', 'Rajasthan', 'Tamil Nadu', 'Telangana', 'Tripura', 'Uttar Pradesh', 'Uttarakhand', 'West Bengal', 'Piemonte', \"Valle d'Aosta\", 'Liguria', 'Lombardia', 'Provincia autonoma di Bolzano', 'Provincia autonoma di Trento', 'Veneto', 'Friuli-Venezia Giulia', 'Emilia-Romagna', 'Toscana', 'Umbria', 'Marche', 'Lazio', 'Abruzzo', 'Molise', 'Campania', 'Puglia', 'Basilicata', 'Calabria', 'Sicilia', 'Sardegna', 'Alberta', 'British Columbia', 'Manitoba', 'Nova Scotia', 'Ontario', 'Quebec', 'Saskatchewan', 'Azad Jammu & Kashmir', 'Balochistan', 'Gilgit-Baltistan', 'Islamabad Capital Territory', 'Khyber Pakhtunkhwa', 'Sindh', 'Andalucia', 'Aragon', 'Cantabria', 'Castilla-La Mancha', 'Community of Madrid', 'Extremadura', 'Balearic Islands', 'Canary Islands', 'Asturias', 'Murcia', 'Castile and León', 'Catalonia', 'Navarre', 'Valencian Community', 'Galicia', 'Basque Country', 'La Rioja', 'Baden-Württemberg', 'Bavaria', 'Berlin', 'Brandenburg', 'Bremen', 'Hamburg', 'Hesse', 'Lower Saxony', 'Mecklenburg-Vorpommern', 'North Rhine-Westphalia', 'Rhineland-Palatinate', 'Saarland', 'Saxony-Anhalt', 'Saxony', 'Schleswig-Holstein', 'Thuringia'])\n"
     ]
    }
   ],
   "source": [
    "print(allCities.keys())"
   ]
  },
  {
   "source": [
    "### Test Data Length"
   ],
   "cell_type": "markdown",
   "metadata": {}
  },
  {
   "cell_type": "code",
   "execution_count": 12,
   "metadata": {},
   "outputs": [
    {
     "output_type": "stream",
     "name": "stdout",
     "text": [
      "Evrything in order\n"
     ]
    }
   ],
   "source": [
    "long = 0\n",
    "k = 0\n",
    "for i in allCities:\n",
    "    if(k==0):\n",
    "        long = len(allCities[i])\n",
    "    else:\n",
    "        if(long != len(allCities[i])):\n",
    "            print(\"Error\")\n",
    "        else:\n",
    "            continue\n",
    "print(\"Evrything in order\")"
   ]
  },
  {
   "cell_type": "code",
   "execution_count": null,
   "metadata": {},
   "outputs": [],
   "source": []
  }
 ]
}