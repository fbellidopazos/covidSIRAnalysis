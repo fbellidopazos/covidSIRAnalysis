{
 "metadata": {
  "language_info": {
   "codemirror_mode": {
    "name": "ipython",
    "version": 3
   },
   "file_extension": ".py",
   "mimetype": "text/x-python",
   "name": "python",
   "nbconvert_exporter": "python",
   "pygments_lexer": "ipython3",
   "version": "3.9.2-final"
  },
  "orig_nbformat": 2,
  "kernelspec": {
   "name": "python392jvsc74a57bd0686bad02ec00068ec0c19fe450b8c9e8bdeae0973bab7d835a0a84c4d6ffd099",
   "display_name": "Python 3.9.2 64-bit ('venv')"
  }
 },
 "nbformat": 4,
 "nbformat_minor": 2,
 "cells": [
  {
   "source": [
    "# Library Imports"
   ],
   "cell_type": "markdown",
   "metadata": {}
  },
  {
   "cell_type": "code",
   "execution_count": 51,
   "metadata": {},
   "outputs": [],
   "source": [
    "import requests,zipfile,io\n",
    "from os import walk\n",
    "from shutil import rmtree"
   ]
  },
  {
   "source": [
    "# Get Zip and Extract "
   ],
   "cell_type": "markdown",
   "metadata": {}
  },
  {
   "cell_type": "code",
   "execution_count": 52,
   "metadata": {},
   "outputs": [],
   "source": [
    "url = \"https://ihmecovid19storage.blob.core.windows.net/latest/ihme-covid19.zip\"\n",
    "tempFolder = \"./Downloads\"\n",
    "\n",
    "r = requests.get(url)\n",
    "z = zipfile.ZipFile(io.BytesIO(r.content))\n",
    "z.extractall(tempFolder)"
   ]
  },
  {
   "source": [
    "# Get the file "
   ],
   "cell_type": "markdown",
   "metadata": {}
  },
  {
   "cell_type": "code",
   "execution_count": 53,
   "metadata": {},
   "outputs": [
    {
     "output_type": "stream",
     "name": "stdout",
     "text": [
      "[]\n['2021-04-16']\n./Downloads\n"
     ]
    }
   ],
   "source": [
    "path, dirs, filenames = next(walk(tempFolder))\n",
    "print(filenames)\n",
    "print(dirs)\n",
    "print(path)"
   ]
  },
  {
   "source": [
    "# Move File needed"
   ],
   "cell_type": "markdown",
   "metadata": {}
  },
  {
   "cell_type": "code",
   "execution_count": 54,
   "metadata": {},
   "outputs": [
    {
     "output_type": "execute_result",
     "data": {
      "text/plain": [
       "'./Downloads/2021-04-16/reference_hospitalization_all_locs.csv'"
      ]
     },
     "metadata": {},
     "execution_count": 54
    }
   ],
   "source": [
    "dataFile=\"reference_hospitalization_all_locs.csv\"\n",
    "fullPath = f'{path}/{dirs[0]}/{dataFile}'\n",
    "fullPath"
   ]
  },
  {
   "cell_type": "code",
   "execution_count": 55,
   "metadata": {},
   "outputs": [],
   "source": [
    "path2file = \"../Data/datosCovid.csv\"\n",
    "os.replace(fullPath, path2file)"
   ]
  },
  {
   "source": [
    "# Delete downloaded Data"
   ],
   "cell_type": "markdown",
   "metadata": {}
  },
  {
   "cell_type": "code",
   "execution_count": 56,
   "metadata": {},
   "outputs": [],
   "source": [
    "rmtree(f'{path}', ignore_errors=True)"
   ]
  }
 ]
}