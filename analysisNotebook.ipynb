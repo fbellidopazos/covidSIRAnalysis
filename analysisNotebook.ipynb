{
 "metadata": {
  "language_info": {
   "codemirror_mode": {
    "name": "ipython",
    "version": 3
   },
   "file_extension": ".py",
   "mimetype": "text/x-python",
   "name": "python",
   "nbconvert_exporter": "python",
   "pygments_lexer": "ipython3",
   "version": "3.9.2-final"
  },
  "orig_nbformat": 2,
  "kernelspec": {
   "name": "python392jvsc74a57bd0686bad02ec00068ec0c19fe450b8c9e8bdeae0973bab7d835a0a84c4d6ffd099",
   "display_name": "Python 3.9.2 64-bit ('venv')"
  }
 },
 "nbformat": 4,
 "nbformat_minor": 2,
 "cells": [
  {
   "source": [
    "# Imports"
   ],
   "cell_type": "markdown",
   "metadata": {}
  },
  {
   "cell_type": "code",
   "execution_count": 1,
   "metadata": {},
   "outputs": [],
   "source": [
    "import csv"
   ]
  },
  {
   "source": [
    "# Depuración de datos"
   ],
   "cell_type": "markdown",
   "metadata": {}
  },
  {
   "cell_type": "code",
   "execution_count": 4,
   "metadata": {},
   "outputs": [],
   "source": [
    "allCities = {}"
   ]
  },
  {
   "cell_type": "code",
   "execution_count": 5,
   "metadata": {},
   "outputs": [],
   "source": [
    "with open('Data/datosCovid.csv') as csv_file:\n",
    "    csv_reader = csv.reader(csv_file, delimiter=',')\n",
    "    fecha = \"\" # Var Init\n",
    "    line_count = 0\n",
    "    for row in csv_reader: \n",
    "        if line_count == 0:\n",
    "            line_count += 1\n",
    "            continue\n",
    "        else:\n",
    "            if(not row[3] in allCities):\n",
    "                allCities[row[3]] = []\n",
    "            if(row[43] == 'observed'): # Data is Actual not predicted\n",
    "                if(fecha==row[1]):\n",
    "                    print(f'FECHA REPETIDA')\n",
    "                    break\n",
    "                par = (row[1],round(float(row[44])))\n",
    "                allCities[row[3]].append(par)\n",
    "        line_count += 1"
   ]
  },
  {
   "cell_type": "code",
   "execution_count": 8,
   "metadata": {},
   "outputs": [
    {
     "output_type": "stream",
     "name": "stdout",
     "text": [
      "[('2020-02-04', 0), ('2020-02-05', 0), ('2020-02-06', 0), ('2020-02-07', 0), ('2020-02-08', 0), ('2020-02-09', 0), ('2020-02-10', 0), ('2020-02-11', 0), ('2020-02-12', 0), ('2020-02-13', 0), ('2020-02-14', 0), ('2020-02-15', 0), ('2020-02-16', 0), ('2020-02-17', 0), ('2020-02-18', 0), ('2020-02-19', 0), ('2020-02-20', 0), ('2020-02-21', 0), ('2020-02-22', 0), ('2020-02-23', 0), ('2020-02-24', 0), ('2020-02-25', 2), ('2020-02-26', 8), ('2020-02-27', 5), ('2020-02-28', 21), ('2020-02-29', 17), ('2020-03-01', 15), ('2020-03-02', 30), ('2020-03-03', 42), ('2020-03-04', 59), ('2020-03-05', 49), ('2020-03-06', 134), ('2020-03-07', 198), ('2020-03-08', 266), ('2020-03-09', 319), ('2020-03-10', 549), ('2020-03-11', 668), ('2020-03-12', 914), ('2020-03-13', 1617), ('2020-03-14', 1753), ('2020-03-15', 1850), ('2020-03-16', 2617), ('2020-03-17', 2519), ('2020-03-18', 3467), ('2020-03-19', 2877), ('2020-03-20', 4927), ('2020-03-21', 3838), ('2020-03-22', 4467), ('2020-03-23', 6836), ('2020-03-24', 7951), ('2020-03-25', 8285), ('2020-03-26', 8088), ('2020-03-27', 8495), ('2020-03-28', 6530), ('2020-03-29', 6250), ('2020-03-30', 9603), ('2020-03-31', 7295), ('2020-04-01', 7904), ('2020-04-02', 7692), ('2020-04-03', 6932), ('2020-04-04', 5951), ('2020-04-05', 4342), ('2020-04-06', 5491), ('2020-04-07', 6317), ('2020-04-08', 5779), ('2020-04-09', 4252), ('2020-04-10', 4808), ('2020-04-11', 4494), ('2020-04-12', 3466), ('2020-04-13', 3483), ('2020-04-14', 4891), ('2020-04-15', 6494), ('2020-04-16', 4653), ('2020-04-17', 4371), ('2020-04-18', 5814), ('2020-04-19', 2602), ('2020-04-20', 3626), ('2020-04-21', 4141), ('2020-04-22', 4476), ('2020-04-23', 4516), ('2020-04-24', 3872), ('2020-04-25', 2864), ('2020-04-26', 2839), ('2020-04-27', 3316), ('2020-04-28', 4643), ('2020-04-29', 5308), ('2020-04-30', 4071), ('2020-05-01', 3920), ('2020-05-02', 1426), ('2020-05-03', 1158), ('2020-05-04', 2216), ('2020-05-05', 3160), ('2020-05-06', 3746), ('2020-05-07', 2805), ('2020-05-08', 2535), ('2020-05-09', 1847), ('2020-05-10', 1066), ('2020-05-11', 1424), ('2020-05-12', 1914), ('2020-05-13', 1849), ('2020-05-14', 2499), ('2020-05-15', 2165), ('2020-05-16', 974), ('2020-05-17', 663), ('2020-05-18', 746), ('2020-05-19', 892), ('2020-05-20', 1451), ('2020-05-21', 1801), ('2020-05-22', 1621), ('2020-05-23', 554), ('2020-05-24', 594), ('2020-05-25', 965), ('2020-05-26', 785), ('2020-05-27', 1234), ('2020-05-28', 1189), ('2020-05-29', 936), ('2020-05-30', 662), ('2020-05-31', 462), ('2020-06-01', 496), ('2020-06-02', 780), ('2020-06-03', 830), ('2020-06-04', 724), ('2020-06-05', 853), ('2020-06-06', 612), ('2020-06-07', 517), ('2020-06-08', 618), ('2020-06-09', 524), ('2020-06-10', 789), ('2020-06-11', 740), ('2020-06-12', 698), ('2020-06-13', 381), ('2020-06-14', 310), ('2020-06-15', 393), ('2020-06-16', 520), ('2020-06-17', 630), ('2020-06-18', 609), ('2020-06-19', 585), ('2020-06-20', 446), ('2020-06-21', 429), ('2020-06-22', 512), ('2020-06-23', 590), ('2020-06-24', 640), ('2020-06-25', 529), ('2020-06-26', 757), ('2020-06-27', 441), ('2020-06-28', 428), ('2020-06-29', 648), ('2020-06-30', 695), ('2020-07-01', 973), ('2020-07-02', 738), ('2020-07-03', 850), ('2020-07-04', 664), ('2020-07-05', 520), ('2020-07-06', 657), ('2020-07-07', 736), ('2020-07-08', 998), ('2020-07-09', 1323), ('2020-07-10', 818), ('2020-07-11', 1268), ('2020-07-12', 711), ('2020-07-13', 1076), ('2020-07-14', 1592), ('2020-07-15', 1812), ('2020-07-16', 2038), ('2020-07-17', 2084), ('2020-07-18', 1881), ('2020-07-19', 1581), ('2020-07-20', 1582), ('2020-07-21', 1571), ('2020-07-22', 3082), ('2020-07-23', 2602), ('2020-07-24', 2711), ('2020-07-25', 2210), ('2020-07-26', 1817), ('2020-07-27', 2300), ('2020-07-28', 2266), ('2020-07-29', 3694), ('2020-07-30', 3261), ('2020-07-31', 3342), ('2020-08-01', 3341), ('2020-08-02', 3134), ('2020-08-03', 2809), ('2020-08-04', 3473), ('2020-08-05', 3907), ('2020-08-06', 4733), ('2020-08-07', 4572), ('2020-08-08', 4318), ('2020-08-09', 3799), ('2020-08-10', 3487), ('2020-08-11', 4927), ('2020-08-12', 5531), ('2020-08-13', 6582), ('2020-08-14', 5774), ('2020-08-15', 5744), ('2020-08-16', 5103), ('2020-08-17', 5271), ('2020-08-18', 6304), ('2020-08-19', 7763), ('2020-08-20', 7718), ('2020-08-21', 7546), ('2020-08-22', 6719), ('2020-08-23', 7010), ('2020-08-24', 6626), ('2020-08-25', 8486), ('2020-08-26', 8958), ('2020-08-27', 10227), ('2020-08-28', 9090), ('2020-08-29', 8708), ('2020-08-30', 7985), ('2020-08-31', 7517), ('2020-09-01', 7867), ('2020-09-02', 9519), ('2020-09-03', 9046), ('2020-09-04', 11018), ('2020-09-05', 9639), ('2020-09-06', 8795), ('2020-09-07', 8636), ('2020-09-08', 8857), ('2020-09-09', 10725), ('2020-09-10', 10991), ('2020-09-11', 11681), ('2020-09-12', 10367), ('2020-09-13', 9308), ('2020-09-14', 10605), ('2020-09-15', 9908), ('2020-09-16', 12375), ('2020-09-17', 12700), ('2020-09-18', 12819), ('2020-09-19', 11508), ('2020-09-20', 9888), ('2020-09-21', 9826), ('2020-09-22', 10692), ('2020-09-23', 11640), ('2020-09-24', 11233), ('2020-09-25', 13729), ('2020-09-26', 10936), ('2020-09-27', 10152), ('2020-09-28', 9227), ('2020-09-29', 11072), ('2020-09-30', 11497), ('2020-10-01', 11571), ('2020-10-02', 10527), ('2020-10-03', 9444), ('2020-10-04', 8298), ('2020-10-05', 9267), ('2020-10-06', 11100), ('2020-10-07', 11782), ('2020-10-08', 11892), ('2020-10-09', 11069), ('2020-10-10', 10306), ('2020-10-11', 9100), ('2020-10-12', 8938), ('2020-10-13', 11307), ('2020-10-14', 13999), ('2020-10-15', 15454), ('2020-10-16', 13879), ('2020-10-17', 12645), ('2020-10-18', 10632), ('2020-10-19', 15907), ('2020-10-20', 18272), ('2020-10-21', 20872), ('2020-10-22', 20848), ('2020-10-23', 20860), ('2020-10-24', 17957), ('2020-10-25', 15104), ('2020-10-26', 18802), ('2020-10-27', 22110), ('2020-10-28', 22714), ('2020-10-29', 23490), ('2020-10-30', 24718), ('2020-10-31', 17977), ('2020-11-01', 15872), ('2020-11-02', 15609), ('2020-11-03', 19749), ('2020-11-04', 21680), ('2020-11-05', 21708), ('2020-11-06', 23862), ('2020-11-07', 17454), ('2020-11-08', 13584), ('2020-11-09', 16347), ('2020-11-10', 18889), ('2020-11-11', 19820), ('2020-11-12', 19860), ('2020-11-13', 17950), ('2020-11-14', 12893), ('2020-11-15', 9863), ('2020-11-16', 13191), ('2020-11-17', 14446), ('2020-11-18', 15015), ('2020-11-19', 14548), ('2020-11-20', 13954), ('2020-11-21', 9130), ('2020-11-22', 7131), ('2020-11-23', 9738), ('2020-11-24', 9995), ('2020-11-25', 10719), ('2020-11-26', 10684), ('2020-11-27', 10467), ('2020-11-28', 7051), ('2020-11-29', 5438), ('2020-11-30', 8103), ('2020-12-01', 8575), ('2020-12-02', 9491), ('2020-12-03', 8999), ('2020-12-04', 8899), ('2020-12-05', 6298), ('2020-12-06', 4902), ('2020-12-07', 5490), ('2020-12-08', 5224), ('2020-12-09', 8137), ('2020-12-10', 9284), ('2020-12-11', 8609), ('2020-12-12', 7604), ('2020-12-13', 6701), ('2020-12-14', 10424), ('2020-12-15', 11157), ('2020-12-16', 11473), ('2020-12-17', 11280), ('2020-12-18', 10465), ('2020-12-19', 8034), ('2020-12-20', 5811), ('2020-12-21', 10509), ('2020-12-22', 11465), ('2020-12-23', 11009), ('2020-12-24', 8824), ('2020-12-25', 7079), ('2020-12-26', 6356), ('2020-12-27', 6388), ('2020-12-28', 13480), ('2020-12-29', 15487), ('2020-12-30', 15506), ('2020-12-31', 12854), ('2021-01-01', 10003), ('2021-01-02', 9606), ('2021-01-03', 9680), ('2021-01-04', 18728), ('2021-01-05', 19232), ('2021-01-06', 17994), ('2021-01-07', 22169), ('2021-01-08', 26127), ('2021-01-09', 20851), ('2021-01-10', 14779), ('2021-01-11', 26458), ('2021-01-12', 30532), ('2021-01-13', 34433), ('2021-01-14', 37237), ('2021-01-15', 36422), ('2021-01-16', 28991), ('2021-01-17', 21550), ('2021-01-18', 33763), ('2021-01-19', 39577), ('2021-01-20', 40677), ('2021-01-21', 41179), ('2021-01-22', 37397), ('2021-01-23', 30379), ('2021-01-24', 27205), ('2021-01-25', 34291), ('2021-01-26', 37354), ('2021-01-27', 36414), ('2021-01-28', 36610), ('2021-01-29', 34685), ('2021-01-30', 23431), ('2021-01-31', 22054), ('2021-02-01', 26798), ('2021-02-02', 26039), ('2021-02-03', 25402), ('2021-02-04', 25496), ('2021-02-05', 21090), ('2021-02-06', 14516), ('2021-02-07', 11068), ('2021-02-08', 15687), ('2021-02-09', 16148), ('2021-02-10', 15808), ('2021-02-11', 14011), ('2021-02-12', 13377), ('2021-02-13', 9644), ('2021-02-14', 6389), ('2021-02-15', 9700), ('2021-02-16', 10318), ('2021-02-17', 11216), ('2021-02-18', 10101), ('2021-02-19', 8412), ('2021-02-20', 6545), ('2021-02-21', 4520), ('2021-02-22', 6497), ('2021-02-23', 7016), ('2021-02-24', 7113), ('2021-02-25', 6543), ('2021-02-26', 6705), ('2021-02-27', 5156), ('2021-02-28', 4016), ('2021-03-01', 4985), ('2021-03-02', 6093), ('2021-03-03', 6252), ('2021-03-04', 6066), ('2021-03-05', 5867), ('2021-03-06', 4100), ('2021-03-07', 3431), ('2021-03-08', 4873), ('2021-03-09', 5927), ('2021-03-10', 6242), ('2021-03-11', 5914), ('2021-03-12', 5896), ('2021-03-13', 4225), ('2021-03-14', 3136), ('2021-03-15', 5226), ('2021-03-16', 5886), ('2021-03-17', 5782), ('2021-03-18', 6000), ('2021-03-19', 4957), ('2021-03-20', 3986), ('2021-03-21', 3507), ('2021-03-22', 5740), ('2021-03-23', 6862), ('2021-03-24', 6718), ('2021-03-25', 7053), ('2021-03-26', 7275), ('2021-03-27', 5292), ('2021-03-28', 4136), ('2021-03-29', 4412), ('2021-03-30', 5639), ('2021-03-31', 6266), ('2021-04-01', 2806), ('2021-04-02', 1102)]\n"
     ]
    }
   ],
   "source": [
    "print(allCities[\"Spain\"])"
   ]
  },
  {
   "cell_type": "code",
   "execution_count": 9,
   "metadata": {},
   "outputs": [
    {
     "output_type": "stream",
     "name": "stdout",
     "text": [
      "dict_keys(['Global', 'China', 'Taiwan (Province of China)', 'Indonesia', 'Malaysia', 'Maldives', 'Myanmar', 'Philippines', 'Sri Lanka', 'Thailand', 'Viet Nam', 'Armenia', 'Azerbaijan', 'Georgia', 'Kazakhstan', 'Kyrgyzstan', 'Tajikistan', 'Uzbekistan', 'Albania', 'Bosnia and Herzegovina', 'Bulgaria', 'Croatia', 'Czechia', 'Hungary', 'North Macedonia', 'Montenegro', 'Poland', 'Romania', 'Serbia', 'Slovakia', 'Slovenia', 'Belarus', 'Estonia', 'Latvia', 'Lithuania', 'Republic of Moldova', 'Russian Federation', 'Ukraine', 'Japan', 'Republic of Korea', 'Singapore', 'Australia', 'New Zealand', 'Andorra', 'Austria', 'Belgium', 'Cyprus', 'Denmark', 'Finland', 'France', 'Germany', 'Greece', 'Iceland', 'Ireland', 'Israel', 'Italy', 'Luxembourg', 'Malta', 'Netherlands', 'Norway', 'Portugal', 'Spain', 'Sweden', 'Switzerland', 'United Kingdom', 'Argentina', 'Chile', 'Uruguay', 'Canada', 'United States of America', 'Latin America and Caribbean', 'Bahamas', 'Barbados', 'Cuba', 'Dominican Republic', 'Guyana', 'Haiti', 'Jamaica', 'Suriname', 'Trinidad and Tobago', 'Bolivia (Plurinational State of)', 'Ecuador', 'Peru', 'Colombia', 'Costa Rica', 'El Salvador', 'Guatemala', 'Honduras', 'Mexico', 'Nicaragua', 'Panama', 'Venezuela (Bolivarian Republic of)', 'Brazil', 'Paraguay', 'North Africa and Middle East', 'Algeria', 'Bahrain', 'Egypt', 'Iran (Islamic Republic of)', 'Iraq', 'Jordan', 'Kuwait', 'Lebanon', 'Libya', 'Morocco', 'Palestine', 'Oman', 'Qatar', 'Saudi Arabia', 'Syrian Arab Republic', 'Tunisia', 'Turkey', 'United Arab Emirates', 'Yemen', 'South Asia', 'Afghanistan', 'Bangladesh', 'India', 'Nepal', 'Pakistan', 'Sub-Saharan Africa', 'Angola', 'Central African Republic', 'Congo', 'Democratic Republic of the Congo', 'Equatorial Guinea', 'Gabon', 'Djibouti', 'Ethiopia', 'Kenya', 'Madagascar', 'Malawi', 'Mauritius', 'Mozambique', 'Rwanda', 'Somalia', 'Uganda', 'Zambia', 'Namibia', 'South Africa', 'Zimbabwe', 'Benin', 'Burkina Faso', 'Cameroon', 'Cabo Verde', 'Chad', \"CÃ´te d'Ivoire\", 'Gambia', 'Ghana', 'Guinea', 'Guinea-Bissau', 'Liberia', 'Mali', 'Mauritania', 'Niger', 'Nigeria', 'Sao Tome and Principe', 'Senegal', 'Sierra Leone', 'Togo', 'Guam', 'Hong Kong Special Administrative Region of China', 'Puerto Rico', 'San Marino', 'United States Virgin Islands', 'Northern Ireland', 'Scotland', 'South Sudan', 'Beijing', 'Chongqing', 'Guangdong', 'Hebei', 'Heilongjiang', 'Hubei', 'Shandong', 'Shanghai', 'Sudan', 'Alabama', 'Alaska', 'Arizona', 'Arkansas', 'California', 'Colorado', 'Connecticut', 'Delaware', 'District of Columbia', 'Florida', 'Hawaii', 'Idaho', 'Illinois', 'Indiana', 'Iowa', 'Kansas', 'Kentucky', 'Louisiana', 'Maine', 'Maryland', 'Massachusetts', 'Michigan', 'Minnesota', 'Mississippi', 'Missouri', 'Montana', 'Nebraska', 'Nevada', 'New Hampshire', 'New Jersey', 'New Mexico', 'New York', 'North Carolina', 'North Dakota', 'Ohio', 'Oklahoma', 'Oregon', 'Pennsylvania', 'Rhode Island', 'South Carolina', 'South Dakota', 'Tennessee', 'Texas', 'Utah', 'Vermont', 'Virginia', 'Washington', 'West Virginia', 'Wisconsin', 'Wyoming', 'Wales', 'Aguascalientes', 'Baja California', 'Baja California Sur', 'Campeche', 'Coahuila', 'Colima', 'Chiapas', 'Chihuahua', 'Mexico City', 'Durango', 'Guanajuato', 'Guerrero', 'Hidalgo', 'Jalisco', 'MÃ©xico', 'MichoacÃ¡n de Ocampo', 'Morelos', 'Nayarit', 'Nuevo LeÃ³n', 'Oaxaca', 'Puebla', 'QuerÃ©taro', 'Quintana Roo', 'San Luis PotosÃ\\xad', 'Sinaloa', 'Sonora', 'Tabasco', 'Tamaulipas', 'Tlaxcala', 'Veracruz de Ignacio de la Llave', 'YucatÃ¡n', 'Zacatecas', 'England', 'Acre', 'Alagoas', 'Amazonas', 'AmapÃ¡', 'Bahia', 'CearÃ¡', 'Distrito Federal', 'EspÃ\\xadrito Santo', 'GoiÃ¡s', 'MaranhÃ£o', 'Minas Gerais', 'Mato Grosso do Sul', 'Mato Grosso', 'ParÃ¡', 'ParaÃ\\xadba', 'ParanÃ¡', 'Pernambuco', 'Piaui', 'Rio de Janeiro', 'Rio Grande do Norte', 'RondÃ´nia', 'Roraima', 'Rio Grande do Sul', 'Santa Catarina', 'Sergipe', 'SÃ£o Paulo', 'Tocantins', 'Andhra Pradesh', 'Arunachal Pradesh', 'Assam', 'Bihar', 'Chhattisgarh', 'Delhi', 'Goa', 'Gujarat', 'Haryana', 'Himachal Pradesh', 'Jammu & Kashmir and Ladakh', 'Jharkhand', 'Karnataka', 'Kerala', 'Madhya Pradesh', 'Maharashtra', 'Manipur', 'Meghalaya', 'Nagaland', 'Odisha', 'Punjab', 'Rajasthan', 'Tamil Nadu', 'Telangana', 'Tripura', 'Uttar Pradesh', 'Uttarakhand', 'West Bengal', 'Piemonte', \"Valle d'Aosta\", 'Liguria', 'Lombardia', 'Provincia autonoma di Bolzano', 'Provincia autonoma di Trento', 'Veneto', 'Friuli-Venezia Giulia', 'Emilia-Romagna', 'Toscana', 'Umbria', 'Marche', 'Lazio', 'Abruzzo', 'Molise', 'Campania', 'Puglia', 'Basilicata', 'Calabria', 'Sicilia', 'Sardegna', 'Alberta', 'British Columbia', 'Manitoba', 'Nova Scotia', 'Ontario', 'Quebec', 'Saskatchewan', 'North America', 'Azad Jammu & Kashmir', 'Balochistan', 'Gilgit-Baltistan', 'Islamabad Capital Territory', 'Khyber Pakhtunkhwa', 'Sindh', 'Andalucia', 'Aragon', 'Cantabria', 'Castilla-La Mancha', 'Community of Madrid', 'Extremadura', 'Balearic Islands', 'Canary Islands', 'Asturias', 'Murcia', 'Castile and LeÃ³n', 'Catalonia', 'Navarre', 'Valencian Community', 'Galicia', 'Basque Country', 'La Rioja', 'Baden-WÃ¼rttemberg', 'Bavaria', 'Berlin', 'Brandenburg', 'Bremen', 'Hamburg', 'Hesse', 'Lower Saxony', 'Mecklenburg-Vorpommern', 'North Rhine-Westphalia', 'Rhineland-Palatinate', 'Saarland', 'Saxony-Anhalt', 'Saxony', 'Schleswig-Holstein', 'Thuringia', 'East Asia and Pacific', 'Europe and Central Asia'])\n"
     ]
    }
   ],
   "source": [
    "print(allCities.keys())"
   ]
  },
  {
   "cell_type": "code",
   "execution_count": null,
   "metadata": {},
   "outputs": [],
   "source": []
  }
 ]
}